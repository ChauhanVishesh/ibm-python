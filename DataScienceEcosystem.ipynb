{
 "cells": [
  {
   "cell_type": "markdown",
   "id": "a1f899fc-e3e3-4853-aaf1-e2818e387287",
   "metadata": {},
   "source": [
    "Data Science Tools and Ecosystem"
   ]
  },
  {
   "cell_type": "markdown",
   "id": "941f1562-f7ba-4af6-aab5-9c7a73009e14",
   "metadata": {},
   "source": [
    "In this notebook Data Science Tools and Ecosystem are summarized:"
   ]
  },
  {
   "cell_type": "markdown",
   "id": "cf99ec8c-25fb-49d9-8e4b-268ba0fa56a8",
   "metadata": {},
   "source": [
    "Some of the popular languages that Data Scientists use are:\n",
    "\n",
    "1. Python\n",
    "2. R\n",
    "3. Julia"
   ]
  },
  {
   "cell_type": "code",
   "execution_count": 15,
   "id": "a8f180e4-0498-4683-8b63-c2e36ef4f2ca",
   "metadata": {
    "tags": []
   },
   "outputs": [
    {
     "name": "stdout",
     "output_type": "stream",
     "text": [
      "\u001b[1mOBJECTIVE\u001b[0m\n"
     ]
    }
   ],
   "source": [
    "print (\"\\033[1mOBJECTIVE\\033[0m\")"
   ]
  },
  {
   "cell_type": "markdown",
   "id": "0be875d5-6be7-42ab-a3bf-d23eb6845096",
   "metadata": {
    "tags": []
   },
   "source": [
    "* data science languages\n",
    "* data science libraries\n",
    "* single column table\n",
    "* arithmetical operations\n",
    "* minutes to hour convertor\n",
    "\n"
   ]
  },
  {
   "cell_type": "markdown",
   "id": "da574716-9e91-4763-84f9-e9623ff2c2a8",
   "metadata": {},
   "source": [
    "Some of the common libraries used by Data Scientists include:\n",
    "\n",
    "1. Pandas\n",
    "2. Numpy\n",
    "3. Matplotlib"
   ]
  },
  {
   "cell_type": "markdown",
   "id": "bf2dccaf-625f-42c6-9a7f-f8e229353072",
   "metadata": {
    "tags": []
   },
   "source": [
    "| Data Science Tools |\n",
    "|--------------------|\n",
    "| Jupyter Notebook |\n",
    "| RStudio |\n",
    "| Apache Spark |"
   ]
  },
  {
   "cell_type": "markdown",
   "id": "3f07ea1d-978c-4029-a0bb-9af81ef5e101",
   "metadata": {},
   "source": [
    "### Below are a few examples of evaluating arithmetic expressions on python:"
   ]
  },
  {
   "cell_type": "code",
   "execution_count": null,
   "id": "93cc0608-961a-47ea-bbe3-8f36256e209a",
   "metadata": {
    "tags": []
   },
   "outputs": [],
   "source": [
    "# This is a simple arithmetic expression to multiply then add integers"
   ]
  },
  {
   "cell_type": "code",
   "execution_count": 2,
   "id": "1ce320e5-982a-4518-8802-ec1e1327c8d3",
   "metadata": {},
   "outputs": [
    {
     "name": "stdout",
     "output_type": "stream",
     "text": [
      "17\n"
     ]
    }
   ],
   "source": [
    "a=3\n",
    "b=4\n",
    "c=5\n",
    "d=(a*b)+c\n",
    "print(d)"
   ]
  },
  {
   "cell_type": "code",
   "execution_count": 3,
   "id": "605bbcbe-d298-4943-b58c-bc61efeab899",
   "metadata": {
    "tags": []
   },
   "outputs": [],
   "source": [
    "# This will convert 200 minutes to hours by diving by 60."
   ]
  },
  {
   "cell_type": "code",
   "execution_count": 9,
   "id": "fb707da0-f1d3-4ed7-8178-11e952f41a28",
   "metadata": {
    "tags": []
   },
   "outputs": [
    {
     "name": "stdout",
     "output_type": "stream",
     "text": [
      "3.3333333333333335\n"
     ]
    }
   ],
   "source": [
    "def hours_to_min(minutes):\n",
    "    return minutes / 60\n",
    "\n",
    "r = hours_to_min(200)\n",
    "print(r)"
   ]
  },
  {
   "cell_type": "markdown",
   "id": "5114eb98-d245-4f41-b00c-b83be410e469",
   "metadata": {
    "tags": []
   },
   "source": [
    "## author\n",
    "Vishesh Chauhan"
   ]
  },
  {
   "cell_type": "code",
   "execution_count": null,
   "id": "f076119d-0114-4a6e-8c03-2bd64736d607",
   "metadata": {},
   "outputs": [],
   "source": []
  },
  {
   "cell_type": "code",
   "execution_count": null,
   "id": "843cb01e-de66-4c6b-a559-22b775c49663",
   "metadata": {},
   "outputs": [],
   "source": []
  }
 ],
 "metadata": {
  "kernelspec": {
   "display_name": "Python",
   "language": "python",
   "name": "conda-env-python-py"
  },
  "language_info": {
   "codemirror_mode": {
    "name": "ipython",
    "version": 3
   },
   "file_extension": ".py",
   "mimetype": "text/x-python",
   "name": "python",
   "nbconvert_exporter": "python",
   "pygments_lexer": "ipython3",
   "version": "3.7.12"
  }
 },
 "nbformat": 4,
 "nbformat_minor": 5
}
